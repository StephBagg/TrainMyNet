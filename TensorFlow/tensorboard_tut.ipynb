{
 "cells": [
  {
   "cell_type": "code",
   "execution_count": 13,
   "metadata": {
    "collapsed": true
   },
   "outputs": [],
   "source": [
    "import tensorflow as tf\n",
    "import numpy as np"
   ]
  },
  {
   "cell_type": "code",
   "execution_count": 16,
   "metadata": {},
   "outputs": [],
   "source": [
    "i = tf.placeholder(tf.float32)\n",
    "\n",
    "a = tf.add(i,4.0, name='a')\n",
    "b = tf.multiply(a, 10.0, name='b')\n",
    "\n",
    "c = tf.subtract(i,3.0, name='c')\n",
    "d = tf.divide(c, 9.0, name='d')\n",
    "\n",
    "e = tf.add(a, d, name='e')\n",
    "e_i = tf.summary.scalar('value_of-e',e)\n",
    "\n",
    "sess = tf.Session()\n",
    "#no need to initialize variables as we only have constants."
   ]
  },
  {
   "cell_type": "code",
   "execution_count": 17,
   "metadata": {
    "collapsed": true
   },
   "outputs": [],
   "source": [
    "write = tf.summary.FileWriter('./board', sess.graph)\n",
    "e_ = sess.run(e, feed_dict={i:5.0})"
   ]
  },
  {
   "cell_type": "code",
   "execution_count": null,
   "metadata": {
    "collapsed": true
   },
   "outputs": [],
   "source": []
  }
 ],
 "metadata": {
  "kernelspec": {
   "display_name": "Python 3",
   "language": "python",
   "name": "python3"
  },
  "language_info": {
   "codemirror_mode": {
    "name": "ipython",
    "version": 3
   },
   "file_extension": ".py",
   "mimetype": "text/x-python",
   "name": "python",
   "nbconvert_exporter": "python",
   "pygments_lexer": "ipython3",
   "version": "3.6.3"
  }
 },
 "nbformat": 4,
 "nbformat_minor": 2
}
